{
 "cells": [
  {
   "cell_type": "code",
   "execution_count": 1,
   "id": "b1b5dd96-12bb-474a-9bb5-b0acad38d92c",
   "metadata": {},
   "outputs": [
    {
     "name": "stdout",
     "output_type": "stream",
     "text": [
      "[0.2]\n",
      "[-0.2]\n",
      "loss or Error is \n",
      "20.16\n",
      "[array([-0.99999714], dtype=float32), array([0.99999166], dtype=float32)]\n"
     ]
    },
    {
     "data": {
      "text/plain": [
       "4.6611603e-11"
      ]
     },
     "execution_count": 1,
     "metadata": {},
     "output_type": "execute_result"
    }
   ],
   "source": [
    "import tensorflow as tf\n",
    "tf.compat.v1.disable_eager_execution()\n",
    "w=tf.Variable([.2])\n",
    "b=tf.Variable([-.2])\n",
    "\n",
    "x= tf.compat.v1.placeholder(tf.float32)\n",
    "y= tf.compat.v1.placeholder(tf.float32)\n",
    "\n",
    "linear_model= w * x + b\n",
    "init = tf.compat.v1.global_variables_initializer()\n",
    "\n",
    "s= tf.compat.v1.Session()\n",
    "\n",
    "s.run(init)\n",
    "print(s.run(w))\n",
    "print(s.run(b))\n",
    "\n",
    "squared_deltas = tf.square(linear_model -y)\n",
    "loss = tf.reduce_sum(squared_deltas)\n",
    "\n",
    "print(\"loss or Error is \")\n",
    "print(s.run(loss, {x:[1,2,3,4], y:[0,-1,-2,-3]}))\n",
    "\n",
    "optimizer = tf.compat.v1.train.GradientDescentOptimizer(0.01)\n",
    "train = optimizer.minimize(loss)\n",
    "s.run(init)\n",
    "for i in range(1000):\n",
    "    s.run(train, {x:[1,2,3,4], y:[0,-1,-2,-3]})\n",
    "print(s.run([w,b]))\n",
    "s.run(linear_model, {x:[1,2,3,4], y:[0,-1,-2,-3]})\n",
    "s.run(loss, {x:[1,2,3,4], y:[0,-1,-2,-3]})"
   ]
  },
  {
   "cell_type": "code",
   "execution_count": 9,
   "id": "e1bd60e7-1727-4d44-8f43-854bafb9eae3",
   "metadata": {},
   "outputs": [
    {
     "name": "stdout",
     "output_type": "stream",
     "text": [
      "[0.2]\n",
      "[-0.2]\n",
      "loss or Error is \n",
      "20.16\n",
      "[array([nan], dtype=float32), array([nan], dtype=float32)]\n"
     ]
    },
    {
     "data": {
      "text/plain": [
       "nan"
      ]
     },
     "execution_count": 9,
     "metadata": {},
     "output_type": "execute_result"
    }
   ],
   "source": [
    "import tensorflow as tf\n",
    "tf.compat.v1.disable_eager_execution()\n",
    "w=tf.Variable([.2])\n",
    "b=tf.Variable([-.2])\n",
    "\n",
    "x= tf.compat.v1.placeholder(tf.float32)\n",
    "y= tf.compat.v1.placeholder(tf.float32)\n",
    "\n",
    "linear_model= w * x + b\n",
    "init = tf.compat.v1.global_variables_initializer()\n",
    "\n",
    "s= tf.compat.v1.Session()\n",
    "\n",
    "s.run(init)\n",
    "print(s.run(w))\n",
    "print(s.run(b))\n",
    "\n",
    "squared_deltas = tf.square(linear_model -y)\n",
    "loss = tf.reduce_sum(squared_deltas)\n",
    "\n",
    "print(\"loss or Error is \")\n",
    "print(s.run(loss, {x:[1,2,3,4], y:[0,-1,-2,-3]}))\n",
    "\n",
    "optimizer = tf.compat.v1.train.GradientDescentOptimizer(0.1)\n",
    "train = optimizer.minimize(loss)\n",
    "s.run(init)\n",
    "for i in range(1000):\n",
    "    s.run(train, {x:[1,2,3,4], y:[0,-1,-2,-3]})\n",
    "print(s.run([w,b]))\n",
    "s.run(linear_model, {x:[1,2,3,4], y:[0,-1,-2,-3]})\n",
    "s.run(loss, {x:[1,2,3,4], y:[0,-1,-2,-3]})"
   ]
  },
  {
   "cell_type": "code",
   "execution_count": 10,
   "id": "4cd24618-44fc-48c1-960d-54bd93bb8310",
   "metadata": {},
   "outputs": [
    {
     "name": "stdout",
     "output_type": "stream",
     "text": [
      "[0.2]\n",
      "[-0.2]\n",
      "loss or Error is \n",
      "20.16\n",
      "[array([-0.85208464], dtype=float32), array([0.56511086], dtype=float32)]\n"
     ]
    },
    {
     "data": {
      "text/plain": [
       "0.1263472"
      ]
     },
     "execution_count": 10,
     "metadata": {},
     "output_type": "execute_result"
    }
   ],
   "source": [
    "import tensorflow as tf\n",
    "tf.compat.v1.disable_eager_execution()\n",
    "w=tf.Variable([.2])\n",
    "b=tf.Variable([-.2])\n",
    "\n",
    "x= tf.compat.v1.placeholder(tf.float32)\n",
    "y= tf.compat.v1.placeholder(tf.float32)\n",
    "\n",
    "linear_model= w * x + b\n",
    "init = tf.compat.v1.global_variables_initializer()\n",
    "\n",
    "s= tf.compat.v1.Session()\n",
    "\n",
    "s.run(init)\n",
    "print(s.run(w))\n",
    "print(s.run(b))\n",
    "\n",
    "squared_deltas = tf.square(linear_model -y)\n",
    "loss = tf.reduce_sum(squared_deltas)\n",
    "\n",
    "print(\"loss or Error is \")\n",
    "print(s.run(loss, {x:[1,2,3,4], y:[0,-1,-2,-3]}))\n",
    "\n",
    "optimizer = tf.compat.v1.train.GradientDescentOptimizer(0.001)\n",
    "train = optimizer.minimize(loss)\n",
    "s.run(init)\n",
    "for i in range(1000):\n",
    "    s.run(train, {x:[1,2,3,4], y:[0,-1,-2,-3]})\n",
    "print(s.run([w,b]))\n",
    "s.run(linear_model, {x:[1,2,3,4], y:[0,-1,-2,-3]})\n",
    "s.run(loss, {x:[1,2,3,4], y:[0,-1,-2,-3]})"
   ]
  },
  {
   "cell_type": "code",
   "execution_count": 11,
   "id": "8554a554-a0a5-4063-ba6c-6362b81a09b2",
   "metadata": {},
   "outputs": [
    {
     "name": "stdout",
     "output_type": "stream",
     "text": [
      "[0.2]\n",
      "[-0.2]\n",
      "loss or Error is \n",
      "20.16\n",
      "[array([-0.56421137], dtype=float32), array([-0.27841425], dtype=float32)]\n"
     ]
    },
    {
     "data": {
      "text/plain": [
       "1.092356"
      ]
     },
     "execution_count": 11,
     "metadata": {},
     "output_type": "execute_result"
    }
   ],
   "source": [
    "import tensorflow as tf\n",
    "tf.compat.v1.disable_eager_execution()\n",
    "w=tf.Variable([.2])\n",
    "b=tf.Variable([-.2])\n",
    "\n",
    "x= tf.compat.v1.placeholder(tf.float32)\n",
    "y= tf.compat.v1.placeholder(tf.float32)\n",
    "\n",
    "linear_model= w * x + b\n",
    "init = tf.compat.v1.global_variables_initializer()\n",
    "\n",
    "s= tf.compat.v1.Session()\n",
    "\n",
    "s.run(init)\n",
    "print(s.run(w))\n",
    "print(s.run(b))\n",
    "\n",
    "squared_deltas = tf.square(linear_model -y)\n",
    "loss = tf.reduce_sum(squared_deltas)\n",
    "\n",
    "print(\"loss or Error is \")\n",
    "print(s.run(loss, {x:[1,2,3,4], y:[0,-1,-2,-3]}))\n",
    "\n",
    "optimizer = tf.compat.v1.train.GradientDescentOptimizer(0.0001)\n",
    "train = optimizer.minimize(loss)\n",
    "s.run(init)\n",
    "for i in range(1000):\n",
    "    s.run(train, {x:[1,2,3,4], y:[0,-1,-2,-3]})\n",
    "print(s.run([w,b]))\n",
    "s.run(linear_model, {x:[1,2,3,4], y:[0,-1,-2,-3]})\n",
    "s.run(loss, {x:[1,2,3,4], y:[0,-1,-2,-3]})"
   ]
  },
  {
   "cell_type": "code",
   "execution_count": 12,
   "id": "f07c095b-9ed5-43f5-b05d-cf838017dbce",
   "metadata": {},
   "outputs": [
    {
     "name": "stdout",
     "output_type": "stream",
     "text": [
      "[0.2]\n",
      "[-0.2]\n",
      "loss or Error is \n",
      "545.4\n",
      "[array([nan], dtype=float32), array([nan], dtype=float32)]\n"
     ]
    },
    {
     "data": {
      "text/plain": [
       "nan"
      ]
     },
     "execution_count": 12,
     "metadata": {},
     "output_type": "execute_result"
    }
   ],
   "source": [
    "import tensorflow as tf\n",
    "tf.compat.v1.disable_eager_execution()\n",
    "w=tf.Variable([.2])\n",
    "b=tf.Variable([-.2])\n",
    "\n",
    "x= tf.compat.v1.placeholder(tf.float32)\n",
    "y= tf.compat.v1.placeholder(tf.float32)\n",
    "\n",
    "linear_model= w * x + b\n",
    "init = tf.compat.v1.global_variables_initializer()\n",
    "\n",
    "s= tf.compat.v1.Session()\n",
    "\n",
    "s.run(init)\n",
    "print(s.run(w))\n",
    "print(s.run(b))\n",
    "\n",
    "squared_deltas = tf.square(linear_model -y)\n",
    "loss = tf.reduce_sum(squared_deltas)\n",
    "\n",
    "print(\"loss or Error is \")\n",
    "print(s.run(loss, {x:[1,2,3,4,5,6,7,8,9,10], y:[0,-1,-2,-3,-4,-8,-9,-6,-12,-7]}))\n",
    "\n",
    "optimizer = tf.compat.v1.train.GradientDescentOptimizer(0.01)\n",
    "train = optimizer.minimize(loss)\n",
    "s.run(init)\n",
    "for i in range(1000):\n",
    "    s.run(train, {x:[1,2,3,4,5,6,7,8,9,10], y:[0,-1,-2,-3,-4,-8,-9,-6,-12,-7]})\n",
    "print(s.run([w,b]))\n",
    "s.run(linear_model, {x:[1,2,3,4,5,6,7,8,9,10], y:[0,-1,-2,-3,-4,-8,-9,-6,-12,-7]})\n",
    "s.run(loss, {x:[1,2,3,4,5,6,7,8,9,10], y:[0,-1,-2,-3,-4,-8,-9,-6,-12,-7]})"
   ]
  },
  {
   "cell_type": "code",
   "execution_count": 14,
   "id": "e39e00e5-864e-4ab4-9c64-6bc43850f1e7",
   "metadata": {
    "scrolled": true
   },
   "outputs": [
    {
     "name": "stdout",
     "output_type": "stream",
     "text": [
      "[0.2]\n",
      "[-0.2]\n",
      "loss or Error is \n",
      "293.76\n",
      "[array([nan], dtype=float32), array([nan], dtype=float32)]\n"
     ]
    },
    {
     "data": {
      "text/plain": [
       "nan"
      ]
     },
     "execution_count": 14,
     "metadata": {},
     "output_type": "execute_result"
    }
   ],
   "source": [
    "import tensorflow as tf\n",
    "tf.compat.v1.disable_eager_execution()\n",
    "w=tf.Variable([.2])\n",
    "b=tf.Variable([-.2])\n",
    "\n",
    "x= tf.compat.v1.placeholder(tf.float32)\n",
    "y= tf.compat.v1.placeholder(tf.float32)\n",
    "\n",
    "linear_model= w * x + b\n",
    "init = tf.compat.v1.global_variables_initializer()\n",
    "\n",
    "s= tf.compat.v1.Session()\n",
    "\n",
    "s.run(init)\n",
    "print(s.run(w))\n",
    "print(s.run(b))\n",
    "\n",
    "squared_deltas = tf.square(linear_model -y)\n",
    "loss = tf.reduce_sum(squared_deltas)\n",
    "\n",
    "print(\"loss or Error is \")\n",
    "print(s.run(loss, {x:[1,2,3,4,5,6,7,8,9], y:[0,-1,-2,-3,-4,-5,-6,-7,-8]}))\n",
    "\n",
    "optimizer = tf.compat.v1.train.GradientDescentOptimizer(0.01)\n",
    "train = optimizer.minimize(loss)\n",
    "s.run(init)\n",
    "for i in range(1000):\n",
    "    s.run(train, {x:[1,2,3,4,5,6,7,8,9], y:[0,-1,-2,-3,-4,-5,-6,-7,-8]})\n",
    "print(s.run([w,b]))\n",
    "s.run(linear_model, {x:[1,2,3,4,5,6,7,8,9], y:[0,-1,-2,-3,-4,-5,-6,-7,-8]})\n",
    "s.run(loss, {x:[1,2,3,4,5,6,7,8,9], y:[0,-1,-2,-3,-4,-5,-6,-7,-8]})\n"
   ]
  }
 ],
 "metadata": {
  "kernelspec": {
   "display_name": "Python 3 (ipykernel)",
   "language": "python",
   "name": "python3"
  },
  "language_info": {
   "codemirror_mode": {
    "name": "ipython",
    "version": 3
   },
   "file_extension": ".py",
   "mimetype": "text/x-python",
   "name": "python",
   "nbconvert_exporter": "python",
   "pygments_lexer": "ipython3",
   "version": "3.8.19"
  }
 },
 "nbformat": 4,
 "nbformat_minor": 5
}
