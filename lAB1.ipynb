{
 "cells": [
  {
   "cell_type": "code",
   "execution_count": 1,
   "id": "af57521f-d26b-4ecd-ad4a-b9acac90dc81",
   "metadata": {},
   "outputs": [],
   "source": [
    "import tensorflow as tf"
   ]
  },
  {
   "cell_type": "code",
   "execution_count": 3,
   "id": "e41bcb4c-0b09-4358-824e-c20771dd54da",
   "metadata": {},
   "outputs": [
    {
     "name": "stdout",
     "output_type": "stream",
     "text": [
      "Original Tensor: [100. 200. 300.]\n",
      "Scalar Value: 3.0\n",
      "Result Tensor (After multiplying the tensor by the scalar): [300. 600. 900.]\n"
     ]
    }
   ],
   "source": [
    "#2021F-BSE-180 , section:C\n",
    "\n",
    "import tensorflow as tf\n",
    "\n",
    "ts = tf.constant([100, 200, 300], dtype=tf.float32)\n",
    "sc = 3.0\n",
    "result_tensor = ts * sc\n",
    "\n",
    "print(\"Original Tensor:\", ts.numpy())\n",
    "print(\"Scalar Value:\", sc)\n",
    "print(\"Result Tensor (After multiplying the tensor by the scalar):\", result_tensor.numpy())"
   ]
  },
  {
   "cell_type": "code",
   "execution_count": 6,
   "id": "38999df0-525c-4a0c-ac20-c948ba820990",
   "metadata": {},
   "outputs": [
    {
     "name": "stdout",
     "output_type": "stream",
     "text": [
      "Vector 1: [1. 3. 5.]\n",
      "Vector 2: [2. 4. 6.]\n",
      "Dot product of the two vectors: 44.0\n"
     ]
    }
   ],
   "source": [
    "import tensorflow as tf\n",
    "\n",
    "vector1 = tf.constant([1, 3, 5], dtype=tf.float32)\n",
    "vector2 = tf.constant([2, 4, 6], dtype=tf.float32)\n",
    "dot_product = tf.reduce_sum(tf.multiply(vector1, vector2))\n",
    "\n",
    "print(\"Vector 1:\", vector1.numpy())\n",
    "print(\"Vector 2:\", vector2.numpy())\n",
    "print(\"Dot product of the two vectors:\", dot_product.numpy())"
   ]
  },
  {
   "cell_type": "code",
   "execution_count": 11,
   "id": "71fd8034-be39-4a88-8442-e1bb9bb0e512",
   "metadata": {},
   "outputs": [
    {
     "name": "stdout",
     "output_type": "stream",
     "text": [
      "Matrix 1:\n",
      "[[1 2]\n",
      " [3 4]]\n",
      "\n",
      "Matrix 2:\n",
      "[[5 6]\n",
      " [7 8]]\n",
      "\n",
      "Addition Result:\n",
      "[[ 6  8]\n",
      " [10 12]]\n",
      "\n",
      "Subtraction Result:\n",
      "[[-4 -4]\n",
      " [-4 -4]]\n",
      "\n",
      "Elementwise Multiplication Result:\n",
      "[[ 5 12]\n",
      " [21 32]]\n",
      "\n",
      "Matrix Multiplication Result:\n",
      "[[19 22]\n",
      " [43 50]]\n"
     ]
    }
   ],
   "source": [
    "\n",
    "\n",
    "\n",
    "import tensorflow as tf\n",
    "\n",
    "matrix1 = tf.constant([[1, 2],  [3, 4]])\n",
    "matrix2 = tf.constant([[5, 6],  [7, 8]])\n",
    "addition_result = matrix1 + matrix2\n",
    "subtraction_result = matrix1 - matrix2\n",
    "matrix_multiplication_result = tf.matmul(matrix1, matrix2)\n",
    "\n",
    "print(\"Matrix 1:\")\n",
    "print(matrix1.numpy())\n",
    "print(\"\\nMatrix 2:\")\n",
    "print(matrix2.numpy())\n",
    "print(\"\\nAddition Result:\")\n",
    "print(addition_result.numpy())\n",
    "print(\"\\nSubtraction Result:\")\n",
    "print(subtraction_result.numpy())\n",
    "print(\"\\nMatrix Multiplication Result:\")\n",
    "print(matrix_multiplication_result.numpy())\n"
   ]
  },
  {
   "cell_type": "code",
   "execution_count": null,
   "id": "b85a2602-d037-43e5-aae0-df9697863606",
   "metadata": {},
   "outputs": [],
   "source": []
  },
  {
   "cell_type": "code",
   "execution_count": null,
   "id": "f31b8c10-f1b0-4510-932d-62061a415e25",
   "metadata": {},
   "outputs": [],
   "source": []
  }
 ],
 "metadata": {
  "kernelspec": {
   "display_name": "Python 3 (ipykernel)",
   "language": "python",
   "name": "python3"
  },
  "language_info": {
   "codemirror_mode": {
    "name": "ipython",
    "version": 3
   },
   "file_extension": ".py",
   "mimetype": "text/x-python",
   "name": "python",
   "nbconvert_exporter": "python",
   "pygments_lexer": "ipython3",
   "version": "3.8.18"
  }
 },
 "nbformat": 4,
 "nbformat_minor": 5
}
